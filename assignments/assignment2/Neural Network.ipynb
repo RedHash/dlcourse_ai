{
 "cells": [
  {
   "cell_type": "markdown",
   "metadata": {},
   "source": [
    "# Задание 2.1 - Нейронные сети\n",
    "\n",
    "В этом задании вы реализуете и натренируете настоящую нейроную сеть своими руками!\n",
    "\n",
    "В некотором смысле это будет расширением прошлого задания - нам нужно просто составить несколько линейных классификаторов вместе!\n",
    "\n",
    "<img src=\"https://i.redd.it/n9fgba8b0qr01.png\" alt=\"Stack_more_layers\" width=\"400px\"/>"
   ]
  },
  {
   "cell_type": "code",
   "execution_count": 2,
   "metadata": {},
   "outputs": [],
   "source": [
    "import numpy as np\n",
    "import matplotlib.pyplot as plt\n",
    "\n",
    "%matplotlib inline\n",
    "\n",
    "%load_ext autoreload\n",
    "%autoreload 2"
   ]
  },
  {
   "cell_type": "code",
   "execution_count": 3,
   "metadata": {},
   "outputs": [],
   "source": [
    "from dataset import load_svhn, random_split_train_val\n",
    "from gradient_check import check_layer_gradient, check_layer_param_gradient, check_model_gradient\n",
    "from layers import FullyConnectedLayer, ReLULayer\n",
    "from model import TwoLayerNet\n",
    "from trainer import Trainer, Dataset\n",
    "from optim import SGD, MomentumSGD\n",
    "from metrics import multiclass_accuracy"
   ]
  },
  {
   "cell_type": "markdown",
   "metadata": {},
   "source": [
    "# Загружаем данные\n",
    "\n",
    "И разделяем их на training и validation."
   ]
  },
  {
   "cell_type": "code",
   "execution_count": 4,
   "metadata": {},
   "outputs": [],
   "source": [
    "def prepare_for_neural_network(train_X, test_X):\n",
    "    train_flat = train_X.reshape(train_X.shape[0], -1).astype(np.float) / 255.0\n",
    "    test_flat = test_X.reshape(test_X.shape[0], -1).astype(np.float) / 255.0\n",
    "    \n",
    "    # Subtract mean\n",
    "    mean_image = np.mean(train_flat, axis = 0)\n",
    "    train_flat -= mean_image\n",
    "    test_flat -= mean_image\n",
    "    \n",
    "    return train_flat, test_flat\n",
    "    \n",
    "train_X, train_y, test_X, test_y = load_svhn(\"data\", max_train=10000, max_test=1000)    \n",
    "train_X, test_X = prepare_for_neural_network(train_X, test_X)\n",
    "# Split train into train and val\n",
    "train_X, train_y, val_X, val_y = random_split_train_val(train_X, train_y, num_val = 1000)"
   ]
  },
  {
   "cell_type": "markdown",
   "metadata": {},
   "source": [
    "# Как всегда, начинаем с кирпичиков\n",
    "\n",
    "Мы будем реализовывать необходимые нам слои по очереди. Каждый слой должен реализовать:\n",
    "- прямой проход (forward pass), который генерирует выход слоя по входу и запоминает необходимые данные\n",
    "- обратный проход (backward pass), который получает градиент по выходу слоя и вычисляет градиент по входу и по параметрам\n",
    "\n",
    "Начнем с ReLU, у которого параметров нет."
   ]
  },
  {
   "cell_type": "code",
   "execution_count": 5,
   "metadata": {
    "scrolled": false
   },
   "outputs": [
    {
     "name": "stdout",
     "output_type": "stream",
     "text": [
      "Gradient check passed!\n"
     ]
    }
   ],
   "source": [
    "# TODO: Implement ReLULayer layer in layers.py\n",
    "# Note: you'll need to copy implementation of the gradient_check function from the previous assignment\n",
    "\n",
    "X = np.array([[1,-2,3],\n",
    "              [-1, 2, 0.1]\n",
    "              ])\n",
    "\n",
    "assert check_layer_gradient(ReLULayer(), X)"
   ]
  },
  {
   "cell_type": "markdown",
   "metadata": {},
   "source": [
    "А теперь реализуем полносвязный слой (fully connected layer), у которого будет два массива параметров: W (weights) и B (bias).\n",
    "\n",
    "Все параметры наши слои будут использовать для параметров специальный класс `Param`, в котором будут храниться значения параметров и градиенты этих параметров, вычисляемые во время обратного прохода.\n",
    "\n",
    "Это даст возможность аккумулировать (суммировать) градиенты из разных частей функции потерь, например, из cross-entropy loss и regularization loss."
   ]
  },
  {
   "cell_type": "code",
   "execution_count": 6,
   "metadata": {},
   "outputs": [
    {
     "name": "stdout",
     "output_type": "stream",
     "text": [
      "Gradient check passed!\n",
      "Gradient check passed!\n",
      "Gradient check passed!\n"
     ]
    }
   ],
   "source": [
    "# TODO: Implement FullyConnected layer forward and backward methods\n",
    "assert check_layer_gradient(FullyConnectedLayer(3, 4), X)\n",
    "# TODO: Implement storing gradients for W and B\n",
    "assert check_layer_param_gradient(FullyConnectedLayer(3, 4), X, 'W')\n",
    "assert check_layer_param_gradient(FullyConnectedLayer(3, 4), X, 'B')"
   ]
  },
  {
   "cell_type": "markdown",
   "metadata": {},
   "source": [
    "## Создаем нейронную сеть\n",
    "\n",
    "Теперь мы реализуем простейшую нейронную сеть с двумя полносвязным слоями и нелинейностью ReLU. Реализуйте функцию `compute_loss_and_gradients`, она должна запустить прямой и обратный проход через оба слоя для вычисления градиентов.\n",
    "\n",
    "Не забудьте реализовать очистку градиентов в начале функции."
   ]
  },
  {
   "cell_type": "code",
   "execution_count": 7,
   "metadata": {},
   "outputs": [
    {
     "name": "stdout",
     "output_type": "stream",
     "text": [
      "Checking gradient for W1\n",
      "Gradient check passed!\n",
      "Checking gradient for B1\n",
      "Gradient check passed!\n",
      "Checking gradient for W2\n",
      "Gradient check passed!\n",
      "Checking gradient for B2\n",
      "Gradient check passed!\n"
     ]
    },
    {
     "data": {
      "text/plain": [
       "True"
      ]
     },
     "execution_count": 7,
     "metadata": {},
     "output_type": "execute_result"
    }
   ],
   "source": [
    "# TODO: In model.py, implement compute_loss_and_gradients function\n",
    "model = TwoLayerNet(n_input = train_X.shape[1], n_output = 10, hidden_layer_size = 3, reg = 0)\n",
    "loss = model.compute_loss_and_gradients(train_X[:2], train_y[:2])\n",
    "\n",
    "# TODO Now implement backward pass and aggregate all of the params\n",
    "check_model_gradient(model, train_X[:2], train_y[:2])"
   ]
  },
  {
   "cell_type": "markdown",
   "metadata": {},
   "source": [
    "Теперь добавьте к модели регуляризацию - она должна прибавляться к loss и делать свой вклад в градиенты."
   ]
  },
  {
   "cell_type": "code",
   "execution_count": 8,
   "metadata": {},
   "outputs": [
    {
     "name": "stdout",
     "output_type": "stream",
     "text": [
      "Checking gradient for W1\n",
      "Gradient check passed!\n",
      "Checking gradient for B1\n",
      "Gradient check passed!\n",
      "Checking gradient for W2\n",
      "Gradient check passed!\n",
      "Checking gradient for B2\n",
      "Gradient check passed!\n"
     ]
    },
    {
     "data": {
      "text/plain": [
       "True"
      ]
     },
     "execution_count": 8,
     "metadata": {},
     "output_type": "execute_result"
    }
   ],
   "source": [
    "# TODO Now implement l2 regularization in the forward and backward pass\n",
    "model_with_reg = TwoLayerNet(n_input = train_X.shape[1], n_output = 10, hidden_layer_size = 3, reg = 1e1)\n",
    "loss_with_reg = model_with_reg.compute_loss_and_gradients(train_X[:2], train_y[:2])\n",
    "assert loss_with_reg > loss and not np.isclose(loss_with_reg, loss), \\\n",
    "    \"Loss with regularization (%2.4f) should be higher than without it (%2.4f)!\" % (loss, loss_with_reg)\n",
    "\n",
    "check_model_gradient(model_with_reg, train_X[:2], train_y[:2])"
   ]
  },
  {
   "cell_type": "markdown",
   "metadata": {},
   "source": [
    "Также реализуем функцию предсказания (вычисления значения) модели на новых данных.\n",
    "\n",
    "Какое значение точности мы ожидаем увидеть до начала тренировки?"
   ]
  },
  {
   "cell_type": "code",
   "execution_count": 12,
   "metadata": {},
   "outputs": [
    {
     "data": {
      "text/plain": [
       "0.1"
      ]
     },
     "execution_count": 12,
     "metadata": {},
     "output_type": "execute_result"
    }
   ],
   "source": [
    "# Finally, implement predict function!\n",
    "\n",
    "# TODO: Implement predict function\n",
    "# What would be the value we expect?\n",
    "multiclass_accuracy(model_with_reg.predict(train_X[:30]), train_y[:30]) "
   ]
  },
  {
   "cell_type": "markdown",
   "metadata": {},
   "source": [
    "# Допишем код для процесса тренировки"
   ]
  },
  {
   "cell_type": "code",
   "execution_count": 13,
   "metadata": {},
   "outputs": [
    {
     "name": "stdout",
     "output_type": "stream",
     "text": [
      "Loss: 1.845979, Train accuracy: 0.336000, val accuracy: 0.336000\n",
      "Loss: 1.457906, Train accuracy: 0.549889, val accuracy: 0.539000\n",
      "Loss: 1.035860, Train accuracy: 0.585444, val accuracy: 0.566000\n",
      "Loss: 1.040640, Train accuracy: 0.676444, val accuracy: 0.648000\n",
      "Loss: 0.946943, Train accuracy: 0.710222, val accuracy: 0.688000\n",
      "Loss: 0.480711, Train accuracy: 0.739889, val accuracy: 0.701000\n",
      "Loss: 0.682664, Train accuracy: 0.744889, val accuracy: 0.704000\n",
      "Loss: 0.441077, Train accuracy: 0.773444, val accuracy: 0.713000\n",
      "Loss: 0.775482, Train accuracy: 0.774333, val accuracy: 0.710000\n",
      "Loss: 0.560099, Train accuracy: 0.762556, val accuracy: 0.703000\n",
      "Loss: 0.954321, Train accuracy: 0.798667, val accuracy: 0.719000\n",
      "Loss: 0.646307, Train accuracy: 0.806111, val accuracy: 0.728000\n",
      "Loss: 0.554686, Train accuracy: 0.818556, val accuracy: 0.720000\n",
      "Loss: 0.677395, Train accuracy: 0.805222, val accuracy: 0.709000\n",
      "Loss: 0.951870, Train accuracy: 0.809444, val accuracy: 0.725000\n",
      "Loss: 0.570817, Train accuracy: 0.815000, val accuracy: 0.727000\n",
      "Loss: 0.560760, Train accuracy: 0.816000, val accuracy: 0.710000\n",
      "Loss: 0.810759, Train accuracy: 0.823222, val accuracy: 0.728000\n",
      "Loss: 0.964046, Train accuracy: 0.870222, val accuracy: 0.749000\n",
      "Loss: 1.093934, Train accuracy: 0.848000, val accuracy: 0.723000\n"
     ]
    }
   ],
   "source": [
    "model = TwoLayerNet(n_input = train_X.shape[1], n_output = 10, hidden_layer_size = 100, reg = 1e-5)\n",
    "dataset = Dataset(train_X, train_y, val_X, val_y)\n",
    "trainer = Trainer(model, dataset, SGD())\n",
    "\n",
    "# TODO Implement missing pieces in Trainer.fit function\n",
    "# You should expect loss to go down and train and val accuracy go up for every epoch\n",
    "loss_history, train_history, val_history = trainer.fit()"
   ]
  },
  {
   "cell_type": "code",
   "execution_count": 15,
   "metadata": {},
   "outputs": [
    {
     "data": {
      "text/plain": [
       "[<matplotlib.lines.Line2D at 0x7f6cde6fe0f0>]"
      ]
     },
     "execution_count": 15,
     "metadata": {},
     "output_type": "execute_result"
    },
    {
     "data": {
      "image/png": "[encoded data removed]",
      "text/plain": [
       "<Figure size 432x288 with 1 Axes>"
      ]
     },
     "metadata": {
      "needs_background": "light"
     },
     "output_type": "display_data"
    }
   ],
   "source": [
    "plt.plot(train_history)\n",
    "plt.plot(val_history)"
   ]
  },
  {
   "cell_type": "markdown",
   "metadata": {},
   "source": [
    "# Улучшаем процесс тренировки\n",
    "\n",
    "Мы реализуем несколько ключевых оптимизаций, необходимых для тренировки современных нейросетей."
   ]
  },
  {
   "cell_type": "markdown",
   "metadata": {},
   "source": [
    "## Уменьшение скорости обучения (learning rate decay)\n",
    "\n",
    "Одна из необходимых оптимизаций во время тренировки нейронных сетей - постепенное уменьшение скорости обучения по мере тренировки.\n",
    "\n",
    "Один из стандартных методов - уменьшение скорости обучения (learning rate) каждые N эпох на коэффициент d (часто называемый decay). Значения N и d, как всегда, являются гиперпараметрами и должны подбираться на основе эффективности на проверочных данных (validation data). \n",
    "\n",
    "В нашем случае N будет равным 1."
   ]
  },
  {
   "cell_type": "code",
   "execution_count": 67,
   "metadata": {},
   "outputs": [
    {
     "name": "stdout",
     "output_type": "stream",
     "text": [
      "Loss: 1.445827, Train accuracy: 0.475000, val accuracy: 0.465000\n",
      "Loss: 1.972171, Train accuracy: 0.567889, val accuracy: 0.569000\n",
      "Loss: 1.369386, Train accuracy: 0.658556, val accuracy: 0.644000\n",
      "Loss: 1.149915, Train accuracy: 0.704778, val accuracy: 0.664000\n",
      "Loss: 1.449911, Train accuracy: 0.699778, val accuracy: 0.661000\n",
      "Loss: 1.361469, Train accuracy: 0.662889, val accuracy: 0.629000\n",
      "Loss: 1.182940, Train accuracy: 0.752667, val accuracy: 0.668000\n",
      "Loss: 0.446654, Train accuracy: 0.769444, val accuracy: 0.703000\n",
      "Loss: 1.038849, Train accuracy: 0.765889, val accuracy: 0.677000\n",
      "Loss: 0.568426, Train accuracy: 0.805000, val accuracy: 0.724000\n",
      "Loss: 0.539603, Train accuracy: 0.776444, val accuracy: 0.689000\n",
      "Loss: 0.447646, Train accuracy: 0.840222, val accuracy: 0.725000\n",
      "Loss: 0.635103, Train accuracy: 0.839444, val accuracy: 0.748000\n",
      "Loss: 0.759475, Train accuracy: 0.838889, val accuracy: 0.728000\n",
      "Loss: 0.433590, Train accuracy: 0.845889, val accuracy: 0.732000\n",
      "Loss: 0.809340, Train accuracy: 0.821111, val accuracy: 0.707000\n",
      "Loss: 0.272466, Train accuracy: 0.857111, val accuracy: 0.728000\n",
      "Loss: 0.798863, Train accuracy: 0.863222, val accuracy: 0.733000\n",
      "Loss: 0.782257, Train accuracy: 0.873556, val accuracy: 0.740000\n",
      "Loss: 0.338246, Train accuracy: 0.882222, val accuracy: 0.745000\n"
     ]
    }
   ],
   "source": [
    "# TODO Implement learning rate decay inside Trainer.fit method\n",
    "# Decay should happen once per epoch\n",
    "\n",
    "model = TwoLayerNet(n_input = train_X.shape[1], n_output = 10, hidden_layer_size = 100, reg = 1e-5)\n",
    "dataset = Dataset(train_X, train_y, val_X, val_y)\n",
    "trainer = Trainer(model, dataset, SGD(), learning_rate=2e-2, learning_rate_decay=0.97)\n",
    "\n",
    "initial_learning_rate = trainer.learning_rate\n",
    "loss_history, train_history, val_history = trainer.fit()\n",
    "\n",
    "assert trainer.learning_rate < initial_learning_rate, \"Learning rate should've been reduced\"\n",
    "assert trainer.learning_rate > 0.5*initial_learning_rate, \"Learning rate shouldn'tve been reduced that much!\""
   ]
  },
  {
   "cell_type": "markdown",
   "metadata": {},
   "source": [
    "# Накопление импульса (Momentum SGD)\n",
    "\n",
    "Другой большой класс оптимизаций - использование более эффективных методов градиентного спуска. Мы реализуем один из них - накопление импульса (Momentum SGD).\n",
    "\n",
    "Этот метод хранит скорость движения, использует градиент для ее изменения на каждом шаге, и изменяет веса пропорционально значению скорости.\n",
    "(Физическая аналогия: Вместо скорости градиенты теперь будут задавать ускорение, но будет присутствовать сила трения.)\n",
    "\n",
    "```\n",
    "velocity = momentum * velocity - learning_rate * gradient \n",
    "w = w + velocity\n",
    "```\n",
    "\n",
    "`momentum` здесь коэффициент затухания, который тоже является гиперпараметром (к счастью, для него часто есть хорошее значение по умолчанию, типичный диапазон -- 0.8-0.99).\n",
    "\n",
    "Несколько полезных ссылок, где метод разбирается более подробно:  \n",
    "http://cs231n.github.io/neural-networks-3/#sgd  \n",
    "https://distill.pub/2017/momentum/"
   ]
  },
  {
   "cell_type": "code",
   "execution_count": 78,
   "metadata": {},
   "outputs": [
    {
     "name": "stdout",
     "output_type": "stream",
     "text": [
      "Loss: 1.801527, Train accuracy: 0.437111, val accuracy: 0.458000\n",
      "Loss: 1.810577, Train accuracy: 0.586667, val accuracy: 0.555000\n",
      "Loss: 1.237164, Train accuracy: 0.642667, val accuracy: 0.620000\n",
      "Loss: 0.640433, Train accuracy: 0.667333, val accuracy: 0.635000\n",
      "Loss: 0.807639, Train accuracy: 0.714222, val accuracy: 0.667000\n",
      "Loss: 1.146564, Train accuracy: 0.732000, val accuracy: 0.670000\n",
      "Loss: 1.390227, Train accuracy: 0.732889, val accuracy: 0.672000\n",
      "Loss: 0.795391, Train accuracy: 0.770889, val accuracy: 0.707000\n",
      "Loss: 1.249009, Train accuracy: 0.750667, val accuracy: 0.657000\n",
      "Loss: 0.375695, Train accuracy: 0.806222, val accuracy: 0.704000\n",
      "Loss: 0.324661, Train accuracy: 0.808444, val accuracy: 0.710000\n",
      "Loss: 1.465481, Train accuracy: 0.775444, val accuracy: 0.671000\n",
      "Loss: 0.816824, Train accuracy: 0.810111, val accuracy: 0.693000\n",
      "Loss: 1.113217, Train accuracy: 0.819000, val accuracy: 0.720000\n",
      "Loss: 0.449962, Train accuracy: 0.832444, val accuracy: 0.725000\n",
      "Loss: 0.696682, Train accuracy: 0.829667, val accuracy: 0.685000\n",
      "Loss: 0.259663, Train accuracy: 0.853111, val accuracy: 0.725000\n",
      "Loss: 1.098727, Train accuracy: 0.864222, val accuracy: 0.737000\n",
      "Loss: 0.477072, Train accuracy: 0.864333, val accuracy: 0.741000\n",
      "Loss: 0.261207, Train accuracy: 0.888111, val accuracy: 0.753000\n"
     ]
    }
   ],
   "source": [
    "# TODO: Implement MomentumSGD.update function in optim.py\n",
    "\n",
    "model = TwoLayerNet(n_input = train_X.shape[1], n_output = 10, hidden_layer_size = 100, reg = 1e-5)\n",
    "dataset = Dataset(train_X, train_y, val_X, val_y)\n",
    "trainer = Trainer(model, dataset, MomentumSGD(momentum=0.93), learning_rate=2e-2, learning_rate_decay=0.97)\n",
    "\n",
    "# You should see even better results than before!http://cs231n.github.io/neural-networks-3/#sgd\n",
    "loss_history, train_history, val_history = trainer.fit()"
   ]
  },
  {
   "cell_type": "markdown",
   "metadata": {},
   "source": [
    "# Ну что, давайте уже тренировать сеть!"
   ]
  },
  {
   "cell_type": "markdown",
   "metadata": {},
   "source": [
    "## Последний тест - переобучимся (overfit) на маленьком наборе данных\n",
    "\n",
    "Хороший способ проверить, все ли реализовано корректно - переобучить сеть на маленьком наборе данных.  \n",
    "Наша модель обладает достаточной мощностью, чтобы приблизить маленький набор данных идеально, поэтому мы ожидаем, что на нем мы быстро дойдем до 100% точности на тренировочном наборе. \n",
    "\n",
    "Если этого не происходит, то где-то была допущена ошибка!"
   ]
  },
  {
   "cell_type": "code",
   "execution_count": 79,
   "metadata": {},
   "outputs": [
    {
     "name": "stdout",
     "output_type": "stream",
     "text": [
      "Loss: 5.143136, Train accuracy: 0.400000, val accuracy: 0.000000\n",
      "Loss: 4.792631, Train accuracy: 0.400000, val accuracy: 0.000000\n",
      "Loss: 4.469429, Train accuracy: 0.400000, val accuracy: 0.000000\n",
      "Loss: 4.123021, Train accuracy: 0.400000, val accuracy: 0.000000\n",
      "Loss: 3.863919, Train accuracy: 0.400000, val accuracy: 0.000000\n",
      "Loss: 3.826393, Train accuracy: 0.400000, val accuracy: 0.000000\n",
      "Loss: 3.363582, Train accuracy: 0.333333, val accuracy: 0.000000\n",
      "Loss: 3.287400, Train accuracy: 0.400000, val accuracy: 0.000000\n",
      "Loss: 2.815040, Train accuracy: 0.333333, val accuracy: 0.000000\n",
      "Loss: 2.801908, Train accuracy: 0.466667, val accuracy: 0.000000\n",
      "Loss: 2.601330, Train accuracy: 0.466667, val accuracy: 0.000000\n",
      "Loss: 1.965929, Train accuracy: 0.466667, val accuracy: 0.000000\n",
      "Loss: 2.181595, Train accuracy: 0.466667, val accuracy: 0.000000\n",
      "Loss: 2.140834, Train accuracy: 0.466667, val accuracy: 0.000000\n",
      "Loss: 1.961691, Train accuracy: 0.600000, val accuracy: 0.066667\n",
      "Loss: 1.898920, Train accuracy: 0.666667, val accuracy: 0.000000\n",
      "Loss: 2.129277, Train accuracy: 0.600000, val accuracy: 0.000000\n",
      "Loss: 2.258818, Train accuracy: 0.666667, val accuracy: 0.000000\n",
      "Loss: 2.447009, Train accuracy: 0.533333, val accuracy: 0.066667\n",
      "Loss: 1.568230, Train accuracy: 0.733333, val accuracy: 0.000000\n",
      "Loss: 2.418739, Train accuracy: 0.800000, val accuracy: 0.066667\n",
      "Loss: 1.378635, Train accuracy: 0.733333, val accuracy: 0.066667\n",
      "Loss: 1.607700, Train accuracy: 0.800000, val accuracy: 0.066667\n",
      "Loss: 1.807066, Train accuracy: 0.800000, val accuracy: 0.133333\n",
      "Loss: 1.716707, Train accuracy: 0.733333, val accuracy: 0.066667\n",
      "Loss: 1.791831, Train accuracy: 0.800000, val accuracy: 0.133333\n",
      "Loss: 1.467796, Train accuracy: 0.800000, val accuracy: 0.133333\n",
      "Loss: 1.976292, Train accuracy: 0.800000, val accuracy: 0.066667\n",
      "Loss: 1.918836, Train accuracy: 0.800000, val accuracy: 0.066667\n",
      "Loss: 1.372492, Train accuracy: 0.800000, val accuracy: 0.000000\n",
      "Loss: 1.641093, Train accuracy: 0.800000, val accuracy: 0.133333\n",
      "Loss: 1.656331, Train accuracy: 0.800000, val accuracy: 0.000000\n",
      "Loss: 1.568324, Train accuracy: 0.800000, val accuracy: 0.000000\n",
      "Loss: 1.260472, Train accuracy: 0.866667, val accuracy: 0.000000\n",
      "Loss: 1.360092, Train accuracy: 0.866667, val accuracy: 0.000000\n",
      "Loss: 1.393920, Train accuracy: 0.866667, val accuracy: 0.066667\n",
      "Loss: 1.247369, Train accuracy: 0.866667, val accuracy: 0.000000\n",
      "Loss: 1.317839, Train accuracy: 0.866667, val accuracy: 0.000000\n",
      "Loss: 1.535695, Train accuracy: 0.933333, val accuracy: 0.000000\n",
      "Loss: 1.332663, Train accuracy: 0.933333, val accuracy: 0.000000\n",
      "Loss: 1.641367, Train accuracy: 0.933333, val accuracy: 0.000000\n",
      "Loss: 1.045685, Train accuracy: 0.933333, val accuracy: 0.000000\n",
      "Loss: 1.572818, Train accuracy: 0.933333, val accuracy: 0.000000\n",
      "Loss: 1.192652, Train accuracy: 0.933333, val accuracy: 0.000000\n",
      "Loss: 1.110052, Train accuracy: 0.933333, val accuracy: 0.000000\n",
      "Loss: 0.971460, Train accuracy: 0.933333, val accuracy: 0.000000\n",
      "Loss: 1.257275, Train accuracy: 0.933333, val accuracy: 0.000000\n",
      "Loss: 1.496699, Train accuracy: 0.933333, val accuracy: 0.000000\n",
      "Loss: 1.644022, Train accuracy: 0.933333, val accuracy: 0.000000\n",
      "Loss: 1.496753, Train accuracy: 0.933333, val accuracy: 0.000000\n",
      "Loss: 1.585901, Train accuracy: 0.933333, val accuracy: 0.000000\n",
      "Loss: 1.290209, Train accuracy: 0.933333, val accuracy: 0.000000\n",
      "Loss: 1.355061, Train accuracy: 0.933333, val accuracy: 0.000000\n",
      "Loss: 1.624278, Train accuracy: 1.000000, val accuracy: 0.000000\n",
      "Loss: 1.560660, Train accuracy: 0.933333, val accuracy: 0.000000\n",
      "Loss: 1.315262, Train accuracy: 0.933333, val accuracy: 0.000000\n",
      "Loss: 1.522273, Train accuracy: 0.933333, val accuracy: 0.000000\n",
      "Loss: 1.139546, Train accuracy: 0.933333, val accuracy: 0.000000\n",
      "Loss: 1.601732, Train accuracy: 1.000000, val accuracy: 0.000000\n",
      "Loss: 1.098671, Train accuracy: 0.933333, val accuracy: 0.000000\n",
      "Loss: 1.377062, Train accuracy: 1.000000, val accuracy: 0.066667\n",
      "Loss: 1.199458, Train accuracy: 1.000000, val accuracy: 0.000000\n",
      "Loss: 1.012368, Train accuracy: 1.000000, val accuracy: 0.000000\n",
      "Loss: 0.993660, Train accuracy: 1.000000, val accuracy: 0.000000\n",
      "Loss: 1.130390, Train accuracy: 1.000000, val accuracy: 0.066667\n",
      "Loss: 1.313096, Train accuracy: 1.000000, val accuracy: 0.000000\n",
      "Loss: 1.069967, Train accuracy: 1.000000, val accuracy: 0.000000\n",
      "Loss: 1.098768, Train accuracy: 1.000000, val accuracy: 0.000000\n",
      "Loss: 1.224442, Train accuracy: 1.000000, val accuracy: 0.066667\n",
      "Loss: 1.381227, Train accuracy: 1.000000, val accuracy: 0.000000\n",
      "Loss: 1.419640, Train accuracy: 1.000000, val accuracy: 0.000000\n",
      "Loss: 1.192597, Train accuracy: 1.000000, val accuracy: 0.066667\n",
      "Loss: 1.205613, Train accuracy: 1.000000, val accuracy: 0.000000\n",
      "Loss: 1.385447, Train accuracy: 1.000000, val accuracy: 0.000000\n",
      "Loss: 1.201076, Train accuracy: 1.000000, val accuracy: 0.000000\n",
      "Loss: 1.053647, Train accuracy: 1.000000, val accuracy: 0.000000\n",
      "Loss: 1.183210, Train accuracy: 1.000000, val accuracy: 0.000000\n",
      "Loss: 1.341052, Train accuracy: 1.000000, val accuracy: 0.000000\n",
      "Loss: 1.383441, Train accuracy: 1.000000, val accuracy: 0.000000\n",
      "Loss: 1.120860, Train accuracy: 1.000000, val accuracy: 0.000000\n",
      "Loss: 1.296940, Train accuracy: 1.000000, val accuracy: 0.000000\n",
      "Loss: 1.155357, Train accuracy: 1.000000, val accuracy: 0.000000\n",
      "Loss: 1.176957, Train accuracy: 1.000000, val accuracy: 0.000000\n",
      "Loss: 1.272638, Train accuracy: 1.000000, val accuracy: 0.000000\n",
      "Loss: 1.288277, Train accuracy: 1.000000, val accuracy: 0.066667\n",
      "Loss: 1.132722, Train accuracy: 1.000000, val accuracy: 0.000000\n",
      "Loss: 1.193534, Train accuracy: 1.000000, val accuracy: 0.000000\n",
      "Loss: 1.223753, Train accuracy: 1.000000, val accuracy: 0.066667\n",
      "Loss: 1.300073, Train accuracy: 1.000000, val accuracy: 0.066667\n",
      "Loss: 1.181207, Train accuracy: 1.000000, val accuracy: 0.066667\n",
      "Loss: 0.978961, Train accuracy: 1.000000, val accuracy: 0.000000\n",
      "Loss: 1.248718, Train accuracy: 1.000000, val accuracy: 0.000000\n",
      "Loss: 1.248765, Train accuracy: 1.000000, val accuracy: 0.000000\n",
      "Loss: 1.241106, Train accuracy: 1.000000, val accuracy: 0.000000\n",
      "Loss: 1.229664, Train accuracy: 1.000000, val accuracy: 0.066667\n",
      "Loss: 1.252958, Train accuracy: 1.000000, val accuracy: 0.000000\n",
      "Loss: 1.233781, Train accuracy: 1.000000, val accuracy: 0.000000\n",
      "Loss: 1.172840, Train accuracy: 1.000000, val accuracy: 0.000000\n",
      "Loss: 1.152161, Train accuracy: 1.000000, val accuracy: 0.000000\n",
      "Loss: 1.158164, Train accuracy: 1.000000, val accuracy: 0.000000\n",
      "Loss: 1.189216, Train accuracy: 1.000000, val accuracy: 0.000000\n",
      "Loss: 1.372709, Train accuracy: 1.000000, val accuracy: 0.066667\n",
      "Loss: 1.301181, Train accuracy: 1.000000, val accuracy: 0.000000\n",
      "Loss: 1.200795, Train accuracy: 1.000000, val accuracy: 0.000000\n",
      "Loss: 1.064569, Train accuracy: 1.000000, val accuracy: 0.000000\n",
      "Loss: 0.934698, Train accuracy: 1.000000, val accuracy: 0.000000\n",
      "Loss: 1.217594, Train accuracy: 1.000000, val accuracy: 0.000000\n",
      "Loss: 1.080101, Train accuracy: 1.000000, val accuracy: 0.000000\n",
      "Loss: 1.003952, Train accuracy: 1.000000, val accuracy: 0.000000\n",
      "Loss: 1.245482, Train accuracy: 1.000000, val accuracy: 0.000000\n",
      "Loss: 1.015135, Train accuracy: 1.000000, val accuracy: 0.066667\n",
      "Loss: 1.127476, Train accuracy: 1.000000, val accuracy: 0.066667\n",
      "Loss: 1.142283, Train accuracy: 1.000000, val accuracy: 0.000000\n",
      "Loss: 1.157001, Train accuracy: 1.000000, val accuracy: 0.066667\n",
      "Loss: 1.233072, Train accuracy: 1.000000, val accuracy: 0.000000\n",
      "Loss: 1.346786, Train accuracy: 1.000000, val accuracy: 0.066667\n",
      "Loss: 1.168725, Train accuracy: 1.000000, val accuracy: 0.000000\n",
      "Loss: 1.306831, Train accuracy: 1.000000, val accuracy: 0.000000\n",
      "Loss: 1.188977, Train accuracy: 1.000000, val accuracy: 0.066667\n",
      "Loss: 1.089732, Train accuracy: 1.000000, val accuracy: 0.000000\n",
      "Loss: 1.066294, Train accuracy: 1.000000, val accuracy: 0.000000\n",
      "Loss: 1.160436, Train accuracy: 1.000000, val accuracy: 0.000000\n",
      "Loss: 1.249284, Train accuracy: 1.000000, val accuracy: 0.066667\n",
      "Loss: 1.272840, Train accuracy: 1.000000, val accuracy: 0.066667\n",
      "Loss: 1.180093, Train accuracy: 1.000000, val accuracy: 0.000000\n",
      "Loss: 1.042857, Train accuracy: 1.000000, val accuracy: 0.000000\n",
      "Loss: 1.194318, Train accuracy: 1.000000, val accuracy: 0.066667\n",
      "Loss: 1.203903, Train accuracy: 1.000000, val accuracy: 0.000000\n"
     ]
    },
    {
     "name": "stdout",
     "output_type": "stream",
     "text": [
      "Loss: 1.149112, Train accuracy: 1.000000, val accuracy: 0.000000\n",
      "Loss: 1.038563, Train accuracy: 1.000000, val accuracy: 0.000000\n",
      "Loss: 1.086127, Train accuracy: 1.000000, val accuracy: 0.000000\n",
      "Loss: 1.253921, Train accuracy: 1.000000, val accuracy: 0.066667\n",
      "Loss: 1.021492, Train accuracy: 1.000000, val accuracy: 0.066667\n",
      "Loss: 1.028079, Train accuracy: 1.000000, val accuracy: 0.066667\n",
      "Loss: 1.059551, Train accuracy: 1.000000, val accuracy: 0.000000\n",
      "Loss: 1.155647, Train accuracy: 1.000000, val accuracy: 0.000000\n",
      "Loss: 1.082262, Train accuracy: 1.000000, val accuracy: 0.000000\n",
      "Loss: 1.190357, Train accuracy: 1.000000, val accuracy: 0.000000\n",
      "Loss: 1.134223, Train accuracy: 1.000000, val accuracy: 0.066667\n",
      "Loss: 1.057021, Train accuracy: 1.000000, val accuracy: 0.000000\n",
      "Loss: 1.199699, Train accuracy: 1.000000, val accuracy: 0.000000\n",
      "Loss: 1.199353, Train accuracy: 1.000000, val accuracy: 0.000000\n",
      "Loss: 1.191120, Train accuracy: 1.000000, val accuracy: 0.000000\n",
      "Loss: 1.150953, Train accuracy: 1.000000, val accuracy: 0.000000\n",
      "Loss: 1.434053, Train accuracy: 1.000000, val accuracy: 0.066667\n",
      "Loss: 1.301324, Train accuracy: 1.000000, val accuracy: 0.000000\n",
      "Loss: 1.129387, Train accuracy: 1.000000, val accuracy: 0.000000\n",
      "Loss: 1.349932, Train accuracy: 1.000000, val accuracy: 0.000000\n",
      "Loss: 1.077515, Train accuracy: 1.000000, val accuracy: 0.066667\n",
      "Loss: 1.165904, Train accuracy: 1.000000, val accuracy: 0.000000\n"
     ]
    }
   ],
   "source": [
    "data_size = 15\n",
    "model = TwoLayerNet(n_input = train_X.shape[1], n_output = 10, hidden_layer_size = 100, reg = 1e-1)\n",
    "dataset = Dataset(train_X[:data_size], train_y[:data_size], val_X[:data_size], val_y[:data_size])\n",
    "trainer = Trainer(model, dataset, SGD(), learning_rate=1e-1, num_epochs=150, batch_size=5)\n",
    "\n",
    "# You should expect this to reach 1.0 training accuracy \n",
    "loss_history, train_history, val_history = trainer.fit()"
   ]
  },
  {
   "cell_type": "markdown",
   "metadata": {},
   "source": [
    "Теперь найдем гипепараметры, для которых этот процесс сходится быстрее.\n",
    "Если все реализовано корректно, то существуют параметры, при которых процесс сходится в **20** эпох или еще быстрее.\n",
    "Найдите их!"
   ]
  },
  {
   "cell_type": "code",
   "execution_count": 80,
   "metadata": {},
   "outputs": [
    {
     "name": "stdout",
     "output_type": "stream",
     "text": [
      "Loss: 2.287697, Train accuracy: 0.333333, val accuracy: 0.066667\n",
      "Loss: 2.156233, Train accuracy: 0.333333, val accuracy: 0.066667\n",
      "Loss: 2.479433, Train accuracy: 0.333333, val accuracy: 0.066667\n",
      "Loss: 1.936039, Train accuracy: 0.333333, val accuracy: 0.000000\n",
      "Loss: 1.866509, Train accuracy: 0.400000, val accuracy: 0.000000\n",
      "Loss: 2.360950, Train accuracy: 0.600000, val accuracy: 0.000000\n",
      "Loss: 1.687351, Train accuracy: 0.600000, val accuracy: 0.000000\n",
      "Loss: 0.946086, Train accuracy: 0.666667, val accuracy: 0.000000\n",
      "Loss: 0.523408, Train accuracy: 0.733333, val accuracy: 0.000000\n",
      "Loss: 1.060549, Train accuracy: 0.733333, val accuracy: 0.066667\n",
      "Loss: 0.894097, Train accuracy: 0.800000, val accuracy: 0.066667\n",
      "Loss: 0.534813, Train accuracy: 0.866667, val accuracy: 0.133333\n",
      "Loss: 0.889785, Train accuracy: 0.933333, val accuracy: 0.066667\n",
      "Loss: 0.897843, Train accuracy: 1.000000, val accuracy: 0.066667\n",
      "Loss: 0.257574, Train accuracy: 1.000000, val accuracy: 0.066667\n",
      "Loss: 0.593605, Train accuracy: 1.000000, val accuracy: 0.066667\n",
      "Loss: 0.212400, Train accuracy: 1.000000, val accuracy: 0.066667\n",
      "Loss: 0.128354, Train accuracy: 1.000000, val accuracy: 0.066667\n",
      "Loss: 0.119200, Train accuracy: 1.000000, val accuracy: 0.066667\n",
      "Loss: 0.101849, Train accuracy: 1.000000, val accuracy: 0.066667\n"
     ]
    }
   ],
   "source": [
    "# Now, tweak some hyper parameters and make it train to 1.0 accuracy in 20 epochs or less\n",
    "\n",
    "model = TwoLayerNet(n_input = train_X.shape[1], n_output = 10, hidden_layer_size = 100, reg = 1e-5)\n",
    "dataset = Dataset(train_X[:data_size], train_y[:data_size], val_X[:data_size], val_y[:data_size])\n",
    "# TODO: Change any hyperparamers or optimizators to reach training accuracy in 20 epochs\n",
    "trainer = Trainer(model, dataset, SGD(), learning_rate=2e-1, num_epochs=20, batch_size=5)\n",
    "\n",
    "loss_history, train_history, val_history = trainer.fit()"
   ]
  },
  {
   "cell_type": "markdown",
   "metadata": {},
   "source": [
    "# Итак, основное мероприятие!\n",
    "\n",
    "Натренируйте лучшую нейросеть! Можно добавлять и изменять параметры, менять количество нейронов в слоях сети и как угодно экспериментировать. \n",
    "\n",
    "Добейтесь точности лучше **40%** на validation set."
   ]
  },
  {
   "cell_type": "code",
   "execution_count": 98,
   "metadata": {
    "scrolled": true
   },
   "outputs": [
    {
     "name": "stdout",
     "output_type": "stream",
     "text": [
      "1 /48\n",
      "\n",
      "Found better val_accuracy  0.684 \n",
      "\n",
      "2 /48\n",
      "\n",
      "Found better val_accuracy  0.728 \n",
      "\n",
      "3 /48\n",
      "\n",
      "4 /48\n",
      "\n",
      "5 /48\n",
      "\n",
      "6 /48\n",
      "\n",
      "Found better val_accuracy  0.746 \n",
      "\n",
      "7 /48\n",
      "\n",
      "8 /48\n",
      "\n",
      "9 /48\n",
      "\n",
      "10 /48\n",
      "\n",
      "11 /48\n",
      "\n",
      "12 /48\n",
      "\n",
      "13 /48\n",
      "\n",
      "14 /48\n",
      "\n",
      "Found better val_accuracy  0.758 \n",
      "\n",
      "15 /48\n",
      "\n",
      "16 /48\n",
      "\n",
      "best validation accuracy achieved: 0.758000\n",
      "model's parametrs\n",
      "100 1e-05 30 20 0.05\n"
     ]
    }
   ],
   "source": [
    "# Let's train the best one-hidden-layer network we can\n",
    "\n",
    "# Здесь было ещё больше параметров, но они были \"не приняты\" при экспериментах вручную\n",
    "hidden_layer_sizes = [75, 100, 125]\n",
    "#hidden_layer_sizes = [100]\n",
    "hidden_layer_sizes = [100]\n",
    "reg_strengths = [1e-3, 1e-5]\n",
    "nums_epochs = [20, 30]\n",
    "batch_sizes = [20, 40]\n",
    "learning_rates = [2e-2, 5e-2]\n",
    "learning_rate_decays = [0.97]\n",
    "\n",
    "best_val_accuracy = 0\n",
    "best_classifier = None\n",
    "best_hidden_size = -1\n",
    "best_reg_strength = -1\n",
    "best_num_epochs = -1\n",
    "best_batch_size = -1\n",
    "best_rate = -1\n",
    "\n",
    "loss_history = []\n",
    "train_history = []\n",
    "val_history = []\n",
    "\n",
    "current_saerch_step = 1\n",
    "for hidden_layer_size in hidden_layer_sizes :\n",
    "    for reg_strength in reg_strengths :\n",
    "        for num_epochs in nums_epochs :\n",
    "            for batch_size in batch_sizes :\n",
    "                for learning_rate in learning_rates :\n",
    "                    for learning_rate_decay in learning_rate_decays :\n",
    "                        print(current_saerch_step, \"/48\\n\")\n",
    "                        current_saerch_step += 1\n",
    "                            \n",
    "                        dataset = Dataset(train_X, train_y, val_X, val_y)    \n",
    "                        model = model = TwoLayerNet(train_X.shape[1], 10, hidden_layer_size, reg_strength)\n",
    "                        trainer = Trainer(model, dataset, SGD(), num_epochs, batch_size, learning_rate, learning_rate_decay)\n",
    "                        loss_history_c, train_history_c, val_history_c = trainer.fit()\n",
    "                        \n",
    "                        if val_history_c[-1] > best_val_accuracy :\n",
    "                            best_val_accuracy = val_history_c[-1]\n",
    "                            print(\"Found better val_accuracy \", best_val_accuracy, \"\\n\")\n",
    "                            best_classifier = model\n",
    "                            best_hidden_size = hidden_layer_size\n",
    "                            best_reg_strength = reg_strength\n",
    "                            best_num_epochs = num_epochs\n",
    "                            best_batch_size = batch_size\n",
    "                            best_rate = learning_rate\n",
    "                            loss_history = loss_history_c\n",
    "                            train_history = train_history_c\n",
    "                            val_history = val_history_c\n",
    "\n",
    "# TODO find the best hyperparameters to train the network\n",
    "# Don't hesitate to add new values to the arrays above, perform experiments, use any tricks you want\n",
    "# You should expect to get to at least 40% of valudation accuracy\n",
    "# Save loss/train/history of the best classifier to the variables above\n",
    "\n",
    "print('best validation accuracy achieved: %f' % best_val_accuracy)\n",
    "print(\"model's parametrs\")\n",
    "print(best_hidden_size, best_reg_strength, best_num_epochs, best_batch_size, best_rate)"
   ]
  },
  {
   "cell_type": "code",
   "execution_count": 101,
   "metadata": {},
   "outputs": [
    {
     "data": {
      "text/plain": [
       "[<matplotlib.lines.Line2D at 0x7fdc2d962400>]"
      ]
     },
     "execution_count": 101,
     "metadata": {},
     "output_type": "execute_result"
    },
    {
     "data": {
      "image/png": "[encoded data removed]",
      "text/plain": [
       "<Figure size 1080x504 with 2 Axes>"
      ]
     },
     "metadata": {
      "needs_background": "light"
     },
     "output_type": "display_data"
    }
   ],
   "source": [
    "# Лучшие параметры:\n",
    "# best_hidden_size = 100, best_reg_strength = 1e-5, best_num_epochs = 30, best_batch_size = 20, best_rate = 0.05\n",
    "plt.figure(figsize=(15, 7))\n",
    "plt.subplot(211)\n",
    "plt.title(\"Loss\")\n",
    "plt.plot(loss_history)\n",
    "plt.subplot(212)\n",
    "plt.title(\"Train/validation accuracy\")\n",
    "plt.plot(train_history)\n",
    "plt.plot(val_history)"
   ]
  },
  {
   "cell_type": "markdown",
   "metadata": {},
   "source": [
    "# Как обычно, посмотрим, как наша лучшая модель работает на тестовых данных"
   ]
  },
  {
   "cell_type": "code",
   "execution_count": 102,
   "metadata": {},
   "outputs": [
    {
     "name": "stdout",
     "output_type": "stream",
     "text": [
      "Neural net test set accuracy: 0.735000\n"
     ]
    }
   ],
   "source": [
    "test_pred = best_classifier.predict(test_X)\n",
    "test_accuracy = multiclass_accuracy(test_pred, test_y)\n",
    "print('Neural net test set accuracy: %f' % (test_accuracy, ))"
   ]
  },
  {
   "cell_type": "code",
   "execution_count": null,
   "metadata": {},
   "outputs": [],
   "source": []
  }
 ],
 "metadata": {
  "kernelspec": {
   "display_name": "Python 3",
   "language": "python",
   "name": "python3"
  },
  "language_info": {
   "codemirror_mode": {
    "name": "ipython",
    "version": 3
   },
   "file_extension": ".py",
   "mimetype": "text/x-python",
   "name": "python",
   "nbconvert_exporter": "python",
   "pygments_lexer": "ipython3",
   "version": "3.7.2"
  }
 },
 "nbformat": 4,
 "nbformat_minor": 2
}
