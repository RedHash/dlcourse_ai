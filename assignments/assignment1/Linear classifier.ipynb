{
 "cells": [
  {
   "cell_type": "markdown",
   "metadata": {},
   "source": [
    "# Задание 1.2 - Линейный классификатор (Linear classifier)\n",
    "\n",
    "В этом задании мы реализуем другую модель машинного обучения - линейный классификатор. Линейный классификатор подбирает для каждого класса веса, на которые нужно умножить значение каждого признака и потом сложить вместе.\n",
    "Тот класс, у которого эта сумма больше, и является предсказанием модели.\n",
    "\n",
    "В этом задании вы:\n",
    "- потренируетесь считать градиенты различных многомерных функций\n",
    "- реализуете подсчет градиентов через линейную модель и функцию потерь softmax\n",
    "- реализуете процесс тренировки линейного классификатора\n",
    "- подберете параметры тренировки на практике\n",
    "\n",
    "На всякий случай, еще раз ссылка на туториал по numpy:  \n",
    "http://cs231n.github.io/python-numpy-tutorial/"
   ]
  },
  {
   "cell_type": "code",
   "execution_count": 1,
   "metadata": {},
   "outputs": [],
   "source": [
    "import numpy as np\n",
    "import matplotlib.pyplot as plt\n",
    "\n",
    "%matplotlib inline\n",
    "\n",
    "%load_ext autoreload\n",
    "%autoreload 2"
   ]
  },
  {
   "cell_type": "code",
   "execution_count": 2,
   "metadata": {},
   "outputs": [],
   "source": [
    "from dataset import load_svhn, random_split_train_val\n",
    "from gradient_check import check_gradient\n",
    "from metrics import multiclass_accuracy \n",
    "import linear_classifer"
   ]
  },
  {
   "cell_type": "markdown",
   "metadata": {},
   "source": [
    "# Как всегда, первым делом загружаем данные\n",
    "\n",
    "Мы будем использовать все тот же SVHN."
   ]
  },
  {
   "cell_type": "code",
   "execution_count": 3,
   "metadata": {},
   "outputs": [],
   "source": [
    "def prepare_for_linear_classifier(train_X, test_X):\n",
    "    train_flat = train_X.reshape(train_X.shape[0], -1).astype(np.float) / 255.0\n",
    "    test_flat = test_X.reshape(test_X.shape[0], -1).astype(np.float) / 255.0\n",
    "    \n",
    "    # Subtract mean\n",
    "    mean_image = np.mean(train_flat, axis = 0)\n",
    "    train_flat -= mean_image\n",
    "    test_flat -= mean_image\n",
    "    \n",
    "    # Add another channel with ones as a bias term\n",
    "    train_flat_with_ones = np.hstack([train_flat, np.ones((train_X.shape[0], 1))])\n",
    "    test_flat_with_ones = np.hstack([test_flat, np.ones((test_X.shape[0], 1))])    \n",
    "    return train_flat_with_ones, test_flat_with_ones\n",
    "    \n",
    "train_X, train_y, test_X, test_y = load_svhn(\"data\", max_train=10000, max_test=1000)    \n",
    "train_X, test_X = prepare_for_linear_classifier(train_X, test_X)\n",
    "# Split train into train and val\n",
    "train_X, train_y, val_X, val_y = random_split_train_val(train_X, train_y, num_val = 1000)"
   ]
  },
  {
   "cell_type": "markdown",
   "metadata": {},
   "source": [
    "# Играемся с градиентами!\n",
    "\n",
    "В этом курсе мы будем писать много функций, которые вычисляют градиенты аналитическим методом.\n",
    "\n",
    "Необходимым инструментом во время реализации кода, вычисляющего градиенты, является функция его проверки. Эта функция вычисляет градиент численным методом и сверяет результат с градиентом, вычисленным аналитическим методом.\n",
    "\n",
    "Мы начнем с того, чтобы реализовать вычисление численного градиента (numeric gradient) в этой функции.\n",
    "Вычислите градиент с помощью численной производной для каждой координаты. Для вычисления производной используйте так называемую two-point formula (https://en.wikipedia.org/wiki/Numerical_differentiation):\n",
    "\n",
    "![image](https://wikimedia.org/api/rest_v1/media/math/render/svg/22fc2c0a66c63560a349604f8b6b39221566236d)\n"
   ]
  },
  {
   "cell_type": "code",
   "execution_count": 4,
   "metadata": {
    "scrolled": true
   },
   "outputs": [
    {
     "name": "stdout",
     "output_type": "stream",
     "text": [
      "Gradient check passed!\n",
      "Gradient check passed!\n",
      "Gradient check passed!\n"
     ]
    },
    {
     "data": {
      "text/plain": [
       "True"
      ]
     },
     "execution_count": 4,
     "metadata": {},
     "output_type": "execute_result"
    }
   ],
   "source": [
    "# TODO: Implement gradient check function\n",
    "def sqr(x):\n",
    "    return x*x, 2*x\n",
    "\n",
    "check_gradient(sqr, np.array([3.0]))\n",
    "\n",
    "def array_sum(x):\n",
    "    assert x.shape == (2,), x.shape\n",
    "    return np.sum(x), np.ones_like(x)\n",
    "\n",
    "check_gradient(array_sum, np.array([3.0, 2.0]))\n",
    "\n",
    "def array_2d_sum(x):\n",
    "    assert x.shape == (2,2)\n",
    "    return np.sum(x), np.ones_like(x)\n",
    "\n",
    "check_gradient(array_2d_sum, np.array([[3.0, 2.0], [1.0, 0.0]]))"
   ]
  },
  {
   "cell_type": "markdown",
   "metadata": {},
   "source": [
    "Теперь реализуем функцию softmax, которая получает на вход оценки для каждого класса и преобразует их в вероятности от 0 до 1:\n",
    "![image](https://wikimedia.org/api/rest_v1/media/math/render/svg/e348290cf48ddbb6e9a6ef4e39363568b67c09d3)\n",
    "\n",
    "**Важно:** Практический аспект вычисления этой функции заключается в том, что в ней учавствует вычисление экспоненты от потенциально очень больших чисел - это может привести к очень большим значениям в числителе и знаменателе за пределами диапазона float.\n",
    "\n",
    "К счастью, у этой проблемы есть простое решение -- перед вычислением softmax вычесть из всех оценок максимальное значение среди всех оценок:\n",
    "```\n",
    "predictions -= np.max(predictions)\n",
    "```\n",
    "(подробнее здесь - http://cs231n.github.io/linear-classify/#softmax, секция `Practical issues: Numeric stability`)"
   ]
  },
  {
   "cell_type": "code",
   "execution_count": 5,
   "metadata": {},
   "outputs": [],
   "source": [
    "# TODO Implement softmax and cross-entropy for single sample\n",
    "probs = linear_classifer.softmax(np.array([-10, 0, 10]))\n",
    "\n",
    "# Make sure it works for big numbers too!\n",
    "probs = linear_classifer.softmax(np.array([1000, 0, 0]))\n",
    "assert np.isclose(probs[0], 1.0)\n"
   ]
  },
  {
   "cell_type": "markdown",
   "metadata": {},
   "source": [
    "Кроме этого, мы реализуем cross-entropy loss, которую мы будем использовать как функцию ошибки (error function).\n",
    "В общем виде cross-entropy определена следующим образом:\n",
    "![image](https://wikimedia.org/api/rest_v1/media/math/render/svg/0cb6da032ab424eefdca0884cd4113fe578f4293)\n",
    "\n",
    "где x - все классы, p(x) - истинная вероятность принадлежности сэмпла классу x, а q(x) - вероятность принадлежности классу x, предсказанная моделью.  \n",
    "В нашем случае сэмпл принадлежит только одному классу, индекс которого передается функции. Для него p(x) равна 1, а для остальных классов - 0. \n",
    "\n",
    "Это позволяет реализовать функцию проще!"
   ]
  },
  {
   "cell_type": "code",
   "execution_count": 6,
   "metadata": {},
   "outputs": [
    {
     "data": {
      "text/plain": [
       "5.006760443547122"
      ]
     },
     "execution_count": 6,
     "metadata": {},
     "output_type": "execute_result"
    }
   ],
   "source": [
    "probs = linear_classifer.softmax(np.array([-5, 0, 5]))\n",
    "linear_classifer.cross_entropy_loss(probs, 1)"
   ]
  },
  {
   "cell_type": "markdown",
   "metadata": {},
   "source": [
    "После того как мы реализовали сами функции, мы можем реализовать градиент.\n",
    "\n",
    "Оказывается, что вычисление градиента становится гораздо проще, если объединить эти функции в одну, которая сначала вычисляет вероятности через softmax, а потом использует их для вычисления функции ошибки через cross-entropy loss.\n",
    "\n",
    "Эта функция `softmax_with_cross_entropy` будет возвращает и значение ошибки, и градиент по входным параметрам. Мы проверим корректность реализации с помощью `check_gradient`."
   ]
  },
  {
   "cell_type": "code",
   "execution_count": 7,
   "metadata": {},
   "outputs": [
    {
     "name": "stdout",
     "output_type": "stream",
     "text": [
      "Gradient check passed!\n"
     ]
    },
    {
     "data": {
      "text/plain": [
       "True"
      ]
     },
     "execution_count": 7,
     "metadata": {},
     "output_type": "execute_result"
    }
   ],
   "source": [
    "# TODO Implement combined function or softmax and cross entropy and produces gradient\n",
    "loss, grad = linear_classifer.softmax_with_cross_entropy(np.array([1, 0, 0]), 1)\n",
    "check_gradient(lambda x: linear_classifer.softmax_with_cross_entropy(x, 1), np.array([1, 0, 0], np.float))"
   ]
  },
  {
   "cell_type": "markdown",
   "metadata": {},
   "source": [
    "В качестве метода тренировки мы будем использовать стохастический градиентный спуск (stochastic gradient descent или SGD), который работает с батчами сэмплов. \n",
    "\n",
    "Поэтому все наши фукнции будут получать не один пример, а батч, то есть входом будет не вектор из `num_classes` оценок, а матрица размерности `batch_size, num_classes`. Индекс примера в батче всегда будет первым измерением.\n",
    "\n",
    "Следующий шаг - переписать наши функции так, чтобы они поддерживали батчи.\n",
    "\n",
    "Финальное значение функции ошибки должно остаться числом, и оно равно среднему значению ошибки среди всех примеров в батче."
   ]
  },
  {
   "cell_type": "code",
   "execution_count": 8,
   "metadata": {
    "scrolled": true
   },
   "outputs": [
    {
     "name": "stdout",
     "output_type": "stream",
     "text": [
      "Gradient check passed!\n",
      "Gradient check passed!\n"
     ]
    },
    {
     "data": {
      "text/plain": [
       "True"
      ]
     },
     "execution_count": 8,
     "metadata": {},
     "output_type": "execute_result"
    }
   ],
   "source": [
    "# TODO Extend combined function so it can receive a 2d array with batch of samples\n",
    "\n",
    "# Test batch_size = 1\n",
    "batch_size = 1\n",
    "predictions = np.zeros((batch_size, 3))\n",
    "target_index = np.ones(batch_size, np.int)\n",
    "check_gradient(lambda x: linear_classifer.softmax_with_cross_entropy(x, target_index), predictions)\n",
    "\n",
    "# Test batch_size = 3\n",
    "batch_size = 3\n",
    "predictions = np.zeros((batch_size, 3))\n",
    "target_index = np.ones(batch_size, np.int)\n",
    "check_gradient(lambda x: linear_classifer.softmax_with_cross_entropy(x, target_index), predictions)"
   ]
  },
  {
   "cell_type": "markdown",
   "metadata": {},
   "source": [
    "### Наконец, реализуем сам линейный классификатор!\n",
    "\n",
    "softmax и cross-entropy получают на вход оценки, которые выдает линейный классификатор.\n",
    "\n",
    "Он делает это очень просто: для каждого класса есть набор весов, на которые надо умножить пиксели картинки и сложить. Получившееся число и является оценкой класса, идущей на вход softmax.\n",
    "\n",
    "Таким образом, линейный классификатор можно представить как умножение вектора с пикселями на матрицу W размера `num_features, num_classes`. Такой подход легко расширяется на случай батча векторов с пикселями X размера `batch_size, num_features`:\n",
    "\n",
    "`predictions = X * W`, где `*` - матричное умножение.\n",
    "\n",
    "Реализуйте функцию подсчета линейного классификатора и градиентов по весам `linear_softmax` в файле `linear_classifer.py`"
   ]
  },
  {
   "cell_type": "code",
   "execution_count": 9,
   "metadata": {},
   "outputs": [
    {
     "name": "stdout",
     "output_type": "stream",
     "text": [
      "Gradient check passed!\n"
     ]
    },
    {
     "data": {
      "text/plain": [
       "True"
      ]
     },
     "execution_count": 9,
     "metadata": {},
     "output_type": "execute_result"
    }
   ],
   "source": [
    "# TODO Implement linear_softmax function that uses softmax with cross-entropy for linear classifier\n",
    "batch_size = 2\n",
    "num_classes = 2\n",
    "num_features = 3\n",
    "np.random.seed(42)\n",
    "W = np.random.randint(-1, 3, size=(num_features, num_classes)).astype(np.float)\n",
    "X = np.random.randint(-1, 3, size=(batch_size, num_features)).astype(np.float)\n",
    "target_index = np.ones(batch_size, dtype=np.int)\n",
    "\n",
    "loss, dW = linear_classifer.linear_softmax(X, W, target_index)\n",
    "check_gradient(lambda w: linear_classifer.linear_softmax(X, w, target_index), W)"
   ]
  },
  {
   "cell_type": "markdown",
   "metadata": {},
   "source": [
    "### И теперь регуляризация\n",
    "\n",
    "Мы будем использовать L2 regularization для весов как часть общей функции ошибки.\n",
    "\n",
    "Напомним, L2 regularization определяется как\n",
    "\n",
    "l2_reg_loss = regularization_strength * sum<sub>ij</sub> W[i, j]<sup>2</sup>\n",
    "\n",
    "Реализуйте функцию для его вычисления и вычисления соотвествующих градиентов."
   ]
  },
  {
   "cell_type": "code",
   "execution_count": 10,
   "metadata": {},
   "outputs": [
    {
     "name": "stdout",
     "output_type": "stream",
     "text": [
      "Gradient check passed!\n"
     ]
    },
    {
     "data": {
      "text/plain": [
       "True"
      ]
     },
     "execution_count": 10,
     "metadata": {},
     "output_type": "execute_result"
    }
   ],
   "source": [
    "# TODO Implement l2_regularization function that implements loss for L2 regularization\n",
    "linear_classifer.l2_regularization(W, 0.01)\n",
    "check_gradient(lambda w: linear_classifer.l2_regularization(w, 0.01), W)"
   ]
  },
  {
   "cell_type": "markdown",
   "metadata": {},
   "source": [
    "# Тренировка!"
   ]
  },
  {
   "cell_type": "markdown",
   "metadata": {},
   "source": [
    "Градиенты в порядке, реализуем процесс тренировки!"
   ]
  },
  {
   "cell_type": "code",
   "execution_count": 11,
   "metadata": {
    "scrolled": false
   },
   "outputs": [
    {
     "name": "stdout",
     "output_type": "stream",
     "text": [
      "Epoch 0, loss: 2.397374\n",
      "Epoch 1, loss: 2.329829\n",
      "Epoch 2, loss: 2.310336\n",
      "Epoch 3, loss: 2.304282\n",
      "Epoch 4, loss: 2.302372\n",
      "Epoch 5, loss: 2.302713\n",
      "Epoch 6, loss: 2.302186\n",
      "Epoch 7, loss: 2.302755\n",
      "Epoch 8, loss: 2.301847\n",
      "Epoch 9, loss: 2.302196\n"
     ]
    }
   ],
   "source": [
    "# TODO: Implement LinearSoftmaxClassifier.fit function\n",
    "classifier = linear_classifer.LinearSoftmaxClassifier()\n",
    "loss_history = classifier.fit(train_X, train_y, epochs=10, learning_rate=1e-3, batch_size=300, reg=1e1)"
   ]
  },
  {
   "cell_type": "code",
   "execution_count": 12,
   "metadata": {},
   "outputs": [
    {
     "data": {
      "text/plain": [
       "[<matplotlib.lines.Line2D at 0x7f23b518ef60>]"
      ]
     },
     "execution_count": 12,
     "metadata": {},
     "output_type": "execute_result"
    },
    {
     "data": {
      "image/png": "[encoded data removed]",
      "text/plain": [
       "<Figure size 432x288 with 1 Axes>"
      ]
     },
     "metadata": {
      "needs_background": "light"
     },
     "output_type": "display_data"
    }
   ],
   "source": [
    "# let's look at the loss history!\n",
    "plt.plot(loss_history)"
   ]
  },
  {
   "cell_type": "code",
   "execution_count": 13,
   "metadata": {},
   "outputs": [
    {
     "name": "stdout",
     "output_type": "stream",
     "text": [
      "Accuracy:  0.159\n",
      "Epoch 0, loss: 2.301333\n",
      "Epoch 1, loss: 2.302644\n",
      "Epoch 2, loss: 2.301019\n",
      "Epoch 3, loss: 2.301728\n",
      "Epoch 4, loss: 2.302436\n",
      "Epoch 5, loss: 2.301693\n",
      "Epoch 6, loss: 2.302237\n",
      "Epoch 7, loss: 2.301144\n",
      "Epoch 8, loss: 2.301783\n",
      "Epoch 9, loss: 2.301391\n",
      "Epoch 10, loss: 2.300848\n",
      "Epoch 11, loss: 2.300761\n",
      "Epoch 12, loss: 2.302349\n",
      "Epoch 13, loss: 2.301014\n",
      "Epoch 14, loss: 2.301197\n",
      "Epoch 15, loss: 2.302604\n",
      "Epoch 16, loss: 2.301875\n",
      "Epoch 17, loss: 2.301375\n",
      "Epoch 18, loss: 2.304208\n",
      "Epoch 19, loss: 2.301062\n",
      "Epoch 20, loss: 2.302354\n",
      "Epoch 21, loss: 2.302283\n",
      "Epoch 22, loss: 2.303140\n",
      "Epoch 23, loss: 2.301146\n",
      "Epoch 24, loss: 2.301425\n",
      "Epoch 25, loss: 2.301969\n",
      "Epoch 26, loss: 2.302278\n",
      "Epoch 27, loss: 2.302008\n",
      "Epoch 28, loss: 2.302298\n",
      "Epoch 29, loss: 2.301966\n",
      "Epoch 30, loss: 2.301627\n",
      "Epoch 31, loss: 2.302442\n",
      "Epoch 32, loss: 2.301858\n",
      "Epoch 33, loss: 2.302432\n",
      "Epoch 34, loss: 2.301916\n",
      "Epoch 35, loss: 2.301601\n",
      "Epoch 36, loss: 2.301376\n",
      "Epoch 37, loss: 2.303757\n",
      "Epoch 38, loss: 2.302029\n",
      "Epoch 39, loss: 2.301745\n",
      "Epoch 40, loss: 2.301718\n",
      "Epoch 41, loss: 2.301698\n",
      "Epoch 42, loss: 2.302600\n",
      "Epoch 43, loss: 2.302954\n",
      "Epoch 44, loss: 2.302173\n",
      "Epoch 45, loss: 2.302314\n",
      "Epoch 46, loss: 2.302485\n",
      "Epoch 47, loss: 2.301773\n",
      "Epoch 48, loss: 2.301032\n",
      "Epoch 49, loss: 2.301491\n",
      "Epoch 50, loss: 2.301659\n",
      "Epoch 51, loss: 2.301282\n",
      "Epoch 52, loss: 2.302590\n",
      "Epoch 53, loss: 2.301251\n",
      "Epoch 54, loss: 2.301927\n",
      "Epoch 55, loss: 2.302264\n",
      "Epoch 56, loss: 2.303062\n",
      "Epoch 57, loss: 2.301165\n",
      "Epoch 58, loss: 2.301631\n",
      "Epoch 59, loss: 2.301462\n",
      "Epoch 60, loss: 2.302717\n",
      "Epoch 61, loss: 2.302293\n",
      "Epoch 62, loss: 2.301408\n",
      "Epoch 63, loss: 2.301888\n",
      "Epoch 64, loss: 2.301422\n",
      "Epoch 65, loss: 2.301950\n",
      "Epoch 66, loss: 2.301290\n",
      "Epoch 67, loss: 2.302040\n",
      "Epoch 68, loss: 2.302080\n",
      "Epoch 69, loss: 2.301424\n",
      "Epoch 70, loss: 2.301861\n",
      "Epoch 71, loss: 2.302002\n",
      "Epoch 72, loss: 2.303122\n",
      "Epoch 73, loss: 2.300996\n",
      "Epoch 74, loss: 2.302050\n",
      "Epoch 75, loss: 2.301292\n",
      "Epoch 76, loss: 2.301673\n",
      "Epoch 77, loss: 2.301688\n",
      "Epoch 78, loss: 2.302126\n",
      "Epoch 79, loss: 2.301398\n",
      "Epoch 80, loss: 2.301749\n",
      "Epoch 81, loss: 2.301060\n",
      "Epoch 82, loss: 2.302660\n",
      "Epoch 83, loss: 2.302304\n",
      "Epoch 84, loss: 2.301762\n",
      "Epoch 85, loss: 2.301839\n",
      "Epoch 86, loss: 2.302569\n",
      "Epoch 87, loss: 2.302798\n",
      "Epoch 88, loss: 2.302825\n",
      "Epoch 89, loss: 2.300822\n",
      "Epoch 90, loss: 2.302006\n",
      "Epoch 91, loss: 2.302662\n",
      "Epoch 92, loss: 2.301375\n",
      "Epoch 93, loss: 2.302158\n",
      "Epoch 94, loss: 2.301358\n",
      "Epoch 95, loss: 2.301254\n",
      "Epoch 96, loss: 2.302587\n",
      "Epoch 97, loss: 2.302046\n",
      "Epoch 98, loss: 2.302427\n",
      "Epoch 99, loss: 2.302061\n",
      "Accuracy after training for 100 epochs:  0.16\n"
     ]
    }
   ],
   "source": [
    "# Let's check how it performs on validation set\n",
    "pred = classifier.predict(val_X)\n",
    "accuracy = multiclass_accuracy(pred, val_y)\n",
    "print(\"Accuracy: \", accuracy)\n",
    "\n",
    "# Now, let's train more and see if it performs better\n",
    "classifier.fit(train_X, train_y, epochs=100, learning_rate=1e-3, batch_size=300, reg=1e1)\n",
    "pred = classifier.predict(val_X)\n",
    "accuracy = multiclass_accuracy(pred, val_y)\n",
    "print(\"Accuracy after training for 100 epochs: \", accuracy)"
   ]
  },
  {
   "cell_type": "markdown",
   "metadata": {},
   "source": [
    "### Как и раньше, используем кросс-валидацию для подбора гиперпараметтов.\n",
    "\n",
    "В этот раз, чтобы тренировка занимала разумное время, мы будем использовать только одно разделение на тренировочные (training) и проверочные (validation) данные.\n",
    "\n",
    "Теперь нам нужно подобрать не один, а два гиперпараметра! Не ограничивайте себя изначальными значениями в коде.  \n",
    "Добейтесь точности более чем **20%** на проверочных данных (validation data)."
   ]
  },
  {
   "cell_type": "code",
   "execution_count": 40,
   "metadata": {},
   "outputs": [
    {
     "name": "stdout",
     "output_type": "stream",
     "text": [
      "Epoch 0, loss: 2.260749\n",
      "Epoch 1, loss: 2.253557\n",
      "Epoch 2, loss: 2.213379\n",
      "Epoch 3, loss: 2.211190\n",
      "Epoch 4, loss: 2.201849\n",
      "Epoch 5, loss: 2.178185\n",
      "Epoch 6, loss: 2.189141\n",
      "Epoch 7, loss: 2.148298\n",
      "Epoch 8, loss: 2.137483\n",
      "Epoch 9, loss: 2.149254\n",
      "Epoch 10, loss: 2.160710\n",
      "Epoch 11, loss: 2.132066\n",
      "Epoch 12, loss: 2.178503\n",
      "Epoch 13, loss: 2.155416\n",
      "Epoch 14, loss: 2.076765\n",
      "Epoch 15, loss: 2.140142\n",
      "Epoch 16, loss: 2.118439\n",
      "Epoch 17, loss: 2.146126\n",
      "Epoch 18, loss: 2.142972\n",
      "Epoch 19, loss: 2.127382\n",
      "Epoch 20, loss: 2.147368\n",
      "Epoch 21, loss: 2.114956\n",
      "Epoch 22, loss: 2.113650\n",
      "Epoch 23, loss: 2.066727\n",
      "Epoch 24, loss: 2.083768\n",
      "Epoch 25, loss: 2.083866\n",
      "Epoch 26, loss: 2.207192\n",
      "Epoch 27, loss: 2.149482\n",
      "Epoch 28, loss: 2.126716\n",
      "Epoch 29, loss: 2.127315\n",
      "Epoch 30, loss: 2.179294\n",
      "Epoch 31, loss: 2.016033\n",
      "Epoch 32, loss: 2.091548\n",
      "Epoch 33, loss: 2.128094\n",
      "Epoch 34, loss: 2.051721\n",
      "Epoch 35, loss: 2.159295\n",
      "Epoch 36, loss: 2.107165\n",
      "Epoch 37, loss: 2.056895\n",
      "Epoch 38, loss: 2.019666\n",
      "Epoch 39, loss: 2.046015\n",
      "Epoch 40, loss: 2.086847\n",
      "Epoch 41, loss: 2.127961\n",
      "Epoch 42, loss: 2.084429\n",
      "Epoch 43, loss: 2.027766\n",
      "Epoch 44, loss: 2.055393\n",
      "Epoch 45, loss: 2.124236\n",
      "Epoch 46, loss: 2.094523\n",
      "Epoch 47, loss: 2.083226\n",
      "Epoch 48, loss: 2.127365\n",
      "Epoch 49, loss: 2.110044\n",
      "Epoch 50, loss: 2.126128\n",
      "Epoch 51, loss: 2.121666\n",
      "Epoch 52, loss: 2.088119\n",
      "Epoch 53, loss: 2.078368\n",
      "Epoch 54, loss: 2.154776\n",
      "Epoch 55, loss: 2.082751\n",
      "Epoch 56, loss: 2.096365\n",
      "Epoch 57, loss: 2.094294\n",
      "Epoch 58, loss: 2.031519\n",
      "Epoch 59, loss: 2.083060\n",
      "Epoch 60, loss: 2.095739\n",
      "Epoch 61, loss: 2.061748\n",
      "Epoch 62, loss: 2.086966\n",
      "Epoch 63, loss: 2.026054\n",
      "Epoch 64, loss: 2.123491\n",
      "Epoch 65, loss: 2.119953\n",
      "Epoch 66, loss: 2.055698\n",
      "Epoch 67, loss: 2.037834\n",
      "Epoch 68, loss: 2.036223\n",
      "Epoch 69, loss: 2.073473\n",
      "Epoch 70, loss: 2.093452\n",
      "Epoch 71, loss: 2.030988\n",
      "Epoch 72, loss: 2.045996\n",
      "Epoch 73, loss: 1.970094\n",
      "Epoch 74, loss: 2.047204\n",
      "Epoch 75, loss: 2.134139\n",
      "Epoch 76, loss: 2.022012\n",
      "Epoch 77, loss: 2.030559\n",
      "Epoch 78, loss: 2.042643\n",
      "Epoch 79, loss: 2.027330\n",
      "Epoch 80, loss: 2.112788\n",
      "Epoch 81, loss: 2.051110\n",
      "Epoch 82, loss: 2.086681\n",
      "Epoch 83, loss: 2.149630\n",
      "Epoch 84, loss: 2.005191\n",
      "Epoch 85, loss: 2.066634\n",
      "Epoch 86, loss: 2.013339\n",
      "Epoch 87, loss: 2.144463\n",
      "Epoch 88, loss: 2.050759\n",
      "Epoch 89, loss: 2.002936\n",
      "Epoch 90, loss: 2.062720\n",
      "Epoch 91, loss: 2.054785\n",
      "Epoch 92, loss: 2.056982\n",
      "Epoch 93, loss: 2.060117\n",
      "Epoch 94, loss: 2.061681\n",
      "Epoch 95, loss: 2.076853\n",
      "Epoch 96, loss: 2.027472\n",
      "Epoch 97, loss: 2.005164\n",
      "Epoch 98, loss: 2.067018\n",
      "Epoch 99, loss: 2.044918\n",
      "Epoch 100, loss: 2.001005\n",
      "Epoch 101, loss: 2.036627\n",
      "Epoch 102, loss: 2.086750\n",
      "Epoch 103, loss: 2.085584\n",
      "Epoch 104, loss: 2.069921\n",
      "Epoch 105, loss: 2.140831\n",
      "Epoch 106, loss: 2.030131\n",
      "Epoch 107, loss: 2.071380\n",
      "Epoch 108, loss: 2.055219\n",
      "Epoch 109, loss: 2.037191\n",
      "Epoch 110, loss: 2.042760\n",
      "Epoch 111, loss: 2.071770\n",
      "Epoch 112, loss: 2.040593\n",
      "Epoch 113, loss: 2.006896\n",
      "Epoch 114, loss: 2.205662\n",
      "Epoch 115, loss: 1.982272\n",
      "Epoch 116, loss: 2.014530\n",
      "Epoch 117, loss: 2.030970\n",
      "Epoch 118, loss: 1.988448\n",
      "Epoch 119, loss: 2.046597\n",
      "Epoch 120, loss: 2.023604\n",
      "Epoch 121, loss: 1.986377\n",
      "Epoch 122, loss: 2.058221\n",
      "Epoch 123, loss: 2.025920\n",
      "Epoch 124, loss: 2.079108\n",
      "Epoch 125, loss: 2.037675\n",
      "Epoch 126, loss: 2.052106\n",
      "Epoch 127, loss: 2.069265\n",
      "Epoch 128, loss: 2.137852\n",
      "Epoch 129, loss: 2.102479\n",
      "Epoch 130, loss: 2.115789\n",
      "Epoch 131, loss: 2.051262\n",
      "Epoch 132, loss: 2.038161\n",
      "Epoch 133, loss: 2.033975\n",
      "Epoch 134, loss: 2.003815\n",
      "Epoch 135, loss: 2.060507\n",
      "Epoch 136, loss: 2.058538\n",
      "Epoch 137, loss: 2.103235\n",
      "Epoch 138, loss: 2.058426\n",
      "Epoch 139, loss: 2.019049\n",
      "Epoch 140, loss: 2.052467\n",
      "Epoch 141, loss: 1.973184\n",
      "Epoch 142, loss: 2.092655\n",
      "Epoch 143, loss: 2.032423\n",
      "Epoch 144, loss: 2.000392\n",
      "Epoch 145, loss: 2.017003\n",
      "Epoch 146, loss: 1.982047\n",
      "Epoch 147, loss: 2.055479\n",
      "Epoch 148, loss: 1.999030\n",
      "Epoch 149, loss: 1.990688\n",
      "Epoch 150, loss: 2.074035\n",
      "Epoch 151, loss: 2.005084\n",
      "Epoch 152, loss: 2.047212\n",
      "Epoch 153, loss: 1.996437\n",
      "Epoch 154, loss: 2.038414\n",
      "Epoch 155, loss: 2.058073\n",
      "Epoch 156, loss: 2.061556\n",
      "Epoch 157, loss: 2.014019\n",
      "Epoch 158, loss: 2.102004\n",
      "Epoch 159, loss: 1.993321\n",
      "Epoch 160, loss: 2.044787\n",
      "Epoch 161, loss: 1.998742\n",
      "Epoch 162, loss: 2.031221\n",
      "Epoch 163, loss: 1.975657\n",
      "Epoch 164, loss: 2.015573\n",
      "Epoch 165, loss: 2.009863\n",
      "Epoch 166, loss: 1.977471\n",
      "Epoch 167, loss: 1.945828\n",
      "Epoch 168, loss: 2.048358\n",
      "Epoch 169, loss: 2.052192\n",
      "Epoch 170, loss: 2.023875\n",
      "Epoch 171, loss: 2.064356\n",
      "Epoch 172, loss: 2.080444\n",
      "Epoch 173, loss: 1.986445\n",
      "Epoch 174, loss: 2.045132\n",
      "Epoch 175, loss: 2.106541\n",
      "Epoch 176, loss: 1.996151\n",
      "Epoch 177, loss: 1.968418\n",
      "Epoch 178, loss: 2.036143\n",
      "Epoch 179, loss: 2.006837\n",
      "Epoch 180, loss: 2.068824\n",
      "Epoch 181, loss: 1.993599\n",
      "Epoch 182, loss: 1.977602\n",
      "Epoch 183, loss: 1.961472\n",
      "Epoch 184, loss: 2.096342\n",
      "Epoch 185, loss: 2.009641\n",
      "Epoch 186, loss: 1.990098\n",
      "Epoch 187, loss: 1.933446\n",
      "Epoch 188, loss: 1.997397\n",
      "Epoch 189, loss: 2.056220\n",
      "Epoch 190, loss: 1.995590\n",
      "Epoch 191, loss: 2.020215\n",
      "Epoch 192, loss: 2.064006\n",
      "Epoch 193, loss: 2.007673\n",
      "Epoch 194, loss: 1.926726\n",
      "Epoch 195, loss: 1.983976\n",
      "Epoch 196, loss: 2.130249\n",
      "Epoch 197, loss: 2.034945\n",
      "Epoch 198, loss: 2.060066\n",
      "Epoch 199, loss: 2.016381\n",
      "best validation accuracy achieved: 0.263000\n",
      "best learning rate: 0.100000, best reg. strength: 0.000010\n"
     ]
    }
   ],
   "source": [
    "num_epochs = 200\n",
    "batch_size = 300\n",
    "\n",
    "#learning_rates = [1,5e-1, 1,2e-1, 1e-1, 0,5e-1, 1e-2]\n",
    "#reg_strengths = [1e-1, 1e-3, 1e-5, 1e-7, 1e-9]\n",
    "\n",
    "# Лучшие параметры, которые у меня получились\n",
    "# Закомментировал другие^ варианты для удобства\n",
    "learning_rates = [1e-1]\n",
    "reg_strengths = [1e-5]\n",
    "\n",
    "best_classifier = None\n",
    "best_val_accuracy = -1\n",
    "best_rate = -1\n",
    "best_reg_str = -1\n",
    "# TODO use validation set to find the best hyperparameters\n",
    "# hint: for best results, you might need to try more values for learning rate and regularization strength \n",
    "# than provided initially\n",
    "for rate in learning_rates :\n",
    "    for reg in reg_strengths :\n",
    "        classifier = linear_classifer.LinearSoftmaxClassifier()\n",
    "        \n",
    "        classifier.fit(train_X, train_y, batch_size, epochs=num_epochs, learning_rate=rate, reg=reg)\n",
    "        \n",
    "        pred = classifier.predict(val_X)\n",
    "        accuracy = multiclass_accuracy(pred, val_y)\n",
    "        \n",
    "        if (accuracy > best_val_accuracy) :\n",
    "            best_val_accuracy = accuracy\n",
    "            best_classifier = classifier\n",
    "            best_rate = rate\n",
    "            best_reg_str = reg\n",
    "        \n",
    "print('best validation accuracy achieved: %f' % best_val_accuracy)\n",
    "print('best learning rate: %f, best reg. strength: %f' % (best_rate, best_reg_str))"
   ]
  },
  {
   "cell_type": "markdown",
   "metadata": {},
   "source": [
    "# Какой же точности мы добились на тестовых данных?"
   ]
  },
  {
   "cell_type": "code",
   "execution_count": 41,
   "metadata": {
    "scrolled": true
   },
   "outputs": [
    {
     "name": "stdout",
     "output_type": "stream",
     "text": [
      "Linear softmax classifier test set accuracy: 0.206000\n"
     ]
    }
   ],
   "source": [
    "test_pred = best_classifier.predict(test_X)\n",
    "\n",
    "test_accuracy = multiclass_accuracy(test_pred, test_y)\n",
    "print('Linear softmax classifier test set accuracy: %f' % (test_accuracy, ))"
   ]
  },
  {
   "cell_type": "code",
   "execution_count": null,
   "metadata": {},
   "outputs": [],
   "source": []
  }
 ],
 "metadata": {
  "kernelspec": {
   "display_name": "Python 3",
   "language": "python",
   "name": "python3"
  },
  "language_info": {
   "codemirror_mode": {
    "name": "ipython",
    "version": 3
   },
   "file_extension": ".py",
   "mimetype": "text/x-python",
   "name": "python",
   "nbconvert_exporter": "python",
   "pygments_lexer": "ipython3",
   "version": "3.7.2"
  }
 },
 "nbformat": 4,
 "nbformat_minor": 2
}
